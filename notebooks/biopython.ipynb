{
 "cells": [
  {
   "cell_type": "code",
   "execution_count": 1,
   "metadata": {},
   "outputs": [
    {
     "name": "stdout",
     "output_type": "stream",
     "text": [
      "Peso molecular: 7023.491500000002\n",
      "Carga neta a pH 7: 16.759931615889286\n",
      "Aromaticidad: 0.05\n",
      "Índice de inestabilidad: 80.59666666666664\n",
      "Punto isoeléctrico: 11.999967765808105\n",
      "Hidrofobicidad (GRAVY): -1.2850000000000001\n",
      "Composición de aminoácidos: {'A': 0.0, 'C': 0.0, 'D': 0.0, 'E': 0.0, 'F': 0.05, 'G': 0.05, 'H': 0.0, 'I': 0.06666666666666667, 'K': 0.0, 'L': 0.08333333333333334, 'M': 0.0, 'N': 0.0, 'P': 0.4666666666666666, 'Q': 0.0, 'R': 0.2833333333333333, 'S': 0.0, 'T': 0.0, 'V': 0.0, 'W': 0.0, 'Y': 0.0}\n",
      "Boman Index para la secuencia: -0.54 kcal/mol\n"
     ]
    },
    {
     "name": "stderr",
     "output_type": "stream",
     "text": [
      "/home/acg/amp_project/amp_project/lib/python3.10/site-packages/Bio/SeqUtils/ProtParam.py:106: BiopythonDeprecationWarning: The get_amino_acids_percent method has been deprecated and will likely be removed from Biopython in the near future. Please use the amino_acids_percent attribute instead.\n",
      "  warnings.warn(\n"
     ]
    }
   ],
   "source": [
    "import Bio\n",
    "from Bio.SeqUtils.ProtParam import ProteinAnalysis\n",
    "\n",
    "# Secuencia del péptido\n",
    "sequence = \"RRIRPRPPRLPRPRPRPLPFPRPGPRPIPRPLPFPRPGPRPIPRPLPFPRPGPRPIPRPL\"\n",
    "\n",
    "# Análisis del péptido\n",
    "analyzer = ProteinAnalysis(sequence)\n",
    "\n",
    "# Propiedades calculadas\n",
    "molecular_weight = analyzer.molecular_weight()  # Peso molecular\n",
    "aromaticity = analyzer.aromaticity()  # Proporción de residuos aromáticos\n",
    "instability_index = analyzer.instability_index()  # Índice de inestabilidad (estabilidad del péptido)\n",
    "isoelectric_point = analyzer.isoelectric_point()  # Punto isoeléctrico\n",
    "gravy = analyzer.gravy()  # Hidrofobicidad (GRAVY score)\n",
    "net_charge = analyzer.charge_at_pH(7.0) # Carga neta a pH 7\n",
    "\n",
    "# Composición de aminoácidos\n",
    "amino_acid_composition = analyzer.get_amino_acids_percent()  # Porcentaje de cada aminoácido\n",
    "\n",
    "\n",
    "\n",
    "# Diccionario de valores de interacción libre (kcal/mol)\n",
    "boman_values = {\n",
    "    'A': 0.17, 'C': -0.24, 'D': -0.77, 'E': -0.64, 'F': -0.22, \n",
    "    'G': 0.01, 'H': -0.96, 'I': -0.31, 'K': -0.99, 'L': -0.21, \n",
    "    'M': -0.23, 'N': -0.60, 'P': 0.45, 'Q': -0.69, 'R': -2.56, \n",
    "    'S': -0.02, 'T': -0.04, 'V': -0.07, 'W': -0.88, 'Y': -0.33\n",
    "}\n",
    "\n",
    "def calculate_boman_index(sequence):\n",
    "    # Sumar los valores de interacción libre para cada aminoácido\n",
    "    total_interaction = sum(boman_values[aa] for aa in sequence)\n",
    "    \n",
    "    # Dividir por el número de aminoácidos\n",
    "    boman_index = total_interaction / len(sequence)\n",
    "    \n",
    "    return boman_index\n",
    "\n",
    "# Secuencia del péptido\n",
    "sequence = \"AGWKK\"\n",
    "\n",
    "# Calcular Boman Index\n",
    "boman_index = calculate_boman_index(sequence)\n",
    "\n",
    "# Mostrar resultados\n",
    "print(\"Peso molecular:\", molecular_weight)\n",
    "print(\"Carga neta a pH 7:\", net_charge) # Jugar con diferentes pH\n",
    "print(\"Aromaticidad:\", aromaticity)\n",
    "print(\"Índice de inestabilidad:\", instability_index)\n",
    "print(\"Punto isoeléctrico:\", isoelectric_point)\n",
    "print(\"Hidrofobicidad (GRAVY):\", gravy)\n",
    "print(\"Composición de aminoácidos:\", amino_acid_composition)\n",
    "print(f\"Boman Index para la secuencia: {boman_index:.2f} kcal/mol\")\n",
    "\n"
   ]
  }
 ],
 "metadata": {
  "kernelspec": {
   "display_name": "amp_project",
   "language": "python",
   "name": "python3"
  },
  "language_info": {
   "codemirror_mode": {
    "name": "ipython",
    "version": 3
   },
   "file_extension": ".py",
   "mimetype": "text/x-python",
   "name": "python",
   "nbconvert_exporter": "python",
   "pygments_lexer": "ipython3",
   "version": "3.10.12"
  }
 },
 "nbformat": 4,
 "nbformat_minor": 2
}
